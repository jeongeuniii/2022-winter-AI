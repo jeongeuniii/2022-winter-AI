{
 "cells": [
  {
   "cell_type": "code",
   "execution_count": 1,
   "id": "de186cda",
   "metadata": {},
   "outputs": [],
   "source": [
    "import numpy as np\n",
    "from sklearn import linear_model # scikit-learn 모듈을 가져온다\n",
    "\n",
    "regr = linear_model.LinearRegression()"
   ]
  },
  {
   "cell_type": "code",
   "execution_count": 2,
   "id": "b196b1a9",
   "metadata": {},
   "outputs": [
    {
     "data": {
      "text/plain": [
       "LinearRegression()"
      ]
     },
     "execution_count": 2,
     "metadata": {},
     "output_type": "execute_result"
    }
   ],
   "source": [
    "X = [[163], [179], [166], [169], [171]]\n",
    "y = [54, 63, 57, 56, 58]\n",
    "regr.fit(X, y)"
   ]
  },
  {
   "cell_type": "code",
   "execution_count": 5,
   "id": "d2c6642f",
   "metadata": {},
   "outputs": [
    {
     "name": "stdout",
     "output_type": "stream",
     "text": [
      "y = [0.53]* X + -32.50\n",
      "데이터와 선형회귀 직선의 관계점수: 91.9%\n"
     ]
    }
   ],
   "source": [
    "coef = regr.coef_            # 직선의 기울기\n",
    "intercept = regr.intercept_  # 직선의 절편\n",
    "score = regr.score(X, y)     # 학습된 직선이 데이터를 얼마나 잘 따르나\n",
    "\n",
    "print(\"y = {}* X + {:.2f}\".format(coef.round(2), intercept))\n",
    "print(\"데이터와 선형회귀 직선의 관계점수: {:.1%}\".format(score))"
   ]
  },
  {
   "cell_type": "code",
   "execution_count": 6,
   "id": "c5ad0a9f",
   "metadata": {},
   "outputs": [
    {
     "data": {
      "text/plain": [
       "[<matplotlib.lines.Line2D at 0x13e61d9a580>]"
      ]
     },
     "execution_count": 6,
     "metadata": {},
     "output_type": "execute_result"
    },
    {
     "data": {
      "image/png": "[encoded data removed]",
      "text/plain": [
       "<Figure size 432x288 with 1 Axes>"
      ]
     },
     "metadata": {
      "needs_background": "light"
     },
     "output_type": "display_data"
    }
   ],
   "source": [
    "import matplotlib.pyplot as plt\n",
    "\n",
    "# 학습 데이터와 y 값을 산포도로 그린다.\n",
    "plt.scatter(X, y, color='blue', marker='D')\n",
    "# 학습 데이터를 입력으로 하여 예측값을 계산한다.\n",
    "y_pred = regr.predict(X)\n",
    "# 계산된 기울기와 y 절편을 가지는 점선을 그려보자\n",
    "plt.plot(X, y_pred, 'r:')"
   ]
  },
  {
   "cell_type": "code",
   "execution_count": 7,
   "id": "db4e264c",
   "metadata": {},
   "outputs": [
    {
     "name": "stdout",
     "output_type": "stream",
     "text": [
      "동윤이의 키가 [[167]]cm 이므로 몸무게는 [56.2]kg으로 추정됨\n"
     ]
    }
   ],
   "source": [
    "unseen = [[167]]\n",
    "result = regr.predict(unseen)\n",
    "print('동윤이의 키가 {}cm 이므로 몸무게는 {}kg으로 추정됨'.format(\\\n",
    "                                               unseen, result.round(1)))"
   ]
  },
  {
   "cell_type": "code",
   "execution_count": 8,
   "id": "4d152c8b",
   "metadata": {},
   "outputs": [
    {
     "name": "stdout",
     "output_type": "stream",
     "text": [
      "계수 : [ 0.74803397 -7.23030041]\n",
      "절편 : -61.22778389430637\n",
      "점수 : 0.8425933302504419\n",
      "동윤이와 은지의 추정 몸무게 : [63.69388959 56.46358918]\n"
     ]
    }
   ],
   "source": [
    "regr = linear_model.LinearRegression()\n",
    "X = [[168, 0], [166, 0], [173, 0], [165, 0], [177, 0], [163, 0], \\\n",
    "     [178, 0], [172, 0], [163, 1], [162, 1], [171, 1], [162, 1], \\\n",
    "    [164, 1], [162, 1], [158, 1], [173, 1], ] # 2차원 입력 데이터\n",
    "y = [65, 61, 68, 63, 68, 61, 76, 67, 55, 51, 59, 53, 61, 56, 44, 57]\n",
    "regr.fit(X, y)    # 학습시키기\n",
    "print('계수 :',regr.coef_)\n",
    "print('절편 :',regr.intercept_)\n",
    "print('점수 :',regr.score(X, y))\n",
    "print('동윤이와 은지의 추정 몸무게 :', regr.predict([[167, 0], [167, 1]]))"
   ]
  },
  {
   "cell_type": "code",
   "execution_count": 11,
   "id": "aae8353d",
   "metadata": {},
   "outputs": [
    {
     "name": "stdout",
     "output_type": "stream",
     "text": [
      "w = 0.63 , b = -1.65\n"
     ]
    }
   ],
   "source": [
    "X = np.array([1, 4.5, 9, 10, 13])\n",
    "y = np.array([0, 0.2, 2.5, 5.4, 7.3])\n",
    "\n",
    "w, b = 0, 0   # w, b의 초기값을 0으로 두자\n",
    "learning_rate, epoch = 0.005, 1000 # 학습률과 학습 횟수(에폭)\n",
    "n = len(X)  # 입력데이터 개수\n",
    "\n",
    "for i in range(epoch):        # 학습 루프\n",
    "    y_pred = w*X + b          # 현재 w, b를 이용한 작업 T\n",
    "    error = y_pred - y        # 성능척도 P\n",
    "    w = w - learning_rate * (error * X).sum()  # 경험 E로 개선\n",
    "    b = b - learning_rate * error.sum()\n",
    "    \n",
    "print('w =', w.round(2), ', b =', b.round(2))"
   ]
  },
  {
   "cell_type": "code",
   "execution_count": 9,
   "id": "83d8f7f9",
   "metadata": {},
   "outputs": [
    {
     "name": "stdout",
     "output_type": "stream",
     "text": [
      "w = [0.63] , b = -1.65\n"
     ]
    }
   ],
   "source": [
    "from sklearn import linear_model\n",
    "import numpy as np\n",
    "\n",
    "X = np.array([1, 4.5, 9, 10, 13])\n",
    "y = np.array([0, 0.2, 2.5, 5.4, 7.3])\n",
    "regr = linear_model.LinearRegression() # 절편값 b는 0으로 둔다\n",
    "X = X[:, np.newaxis]\n",
    "regr.fit(X, y)        # 학습\n",
    "\n",
    "print('w =', regr.coef_.round(2), \\\n",
    "     ', b =', regr.intercept_.round(2))"
   ]
  },
  {
   "cell_type": "code",
   "execution_count": 10,
   "id": "1f974764",
   "metadata": {},
   "outputs": [
    {
     "data": {
      "text/plain": [
       "[<matplotlib.lines.Line2D at 0x13e6417ba60>]"
      ]
     },
     "execution_count": 10,
     "metadata": {},
     "output_type": "execute_result"
    },
    {
     "data": {
      "image/png": "[encoded data removed]",
      "text/plain": [
       "<Figure size 432x288 with 1 Axes>"
      ]
     },
     "metadata": {
      "needs_background": "light"
     },
     "output_type": "display_data"
    }
   ],
   "source": [
    "import matplotlib.pyplot as plt\n",
    "import numpy as np\n",
    "\n",
    "X = np.array([1, 4.5, 9, 10, 13])\n",
    "y = np.array([0, 0.2, 2.5, 5.4, 7.3])\n",
    "plt.scatter(X, y, color='blue', marker='D')\n",
    "# 계산으로 구한 w, b를 이용하여 선형 회귀 직선을 그리자\n",
    "y_pred = 0.63 * X - 1.65\n",
    "plt.plot(X, y_pred, 'r:')"
   ]
  }
 ],
 "metadata": {
  "kernelspec": {
   "display_name": "Python 3 (ipykernel)",
   "language": "python",
   "name": "python3"
  },
  "language_info": {
   "codemirror_mode": {
    "name": "ipython",
    "version": 3
   },
   "file_extension": ".py",
   "mimetype": "text/x-python",
   "name": "python",
   "nbconvert_exporter": "python",
   "pygments_lexer": "ipython3",
   "version": "3.9.7"
  }
 },
 "nbformat": 4,
 "nbformat_minor": 5
}
